{
 "cells": [
  {
   "cell_type": "markdown",
   "id": "df2f8cd2",
   "metadata": {},
   "source": [
    "# Image Pre-Processing"
   ]
  },
  {
   "cell_type": "markdown",
   "id": "ffe7429d",
   "metadata": {},
   "source": [
    "## Import the necessary Libraries"
   ]
  },
  {
   "cell_type": "markdown",
   "id": "cee24efc",
   "metadata": {},
   "source": [
    "##### Note: Download scikit-image for skimage "
   ]
  },
  {
   "cell_type": "code",
   "execution_count": 1,
   "id": "7e8459eb",
   "metadata": {},
   "outputs": [],
   "source": [
    "from sklearn.ensemble import RandomForestClassifier\n",
    "from sklearn.preprocessing import LabelEncoder\n",
    "from sklearn.metrics import confusion_matrix\n",
    "from skimage import feature\n",
    "from imutils import build_montages\n",
    "from imutils import paths\n",
    "import numpy as np\n",
    "import cv2\n",
    "import os\n",
    "import pickle"
   ]
  },
  {
   "cell_type": "markdown",
   "id": "bdfb680b",
   "metadata": {},
   "source": [
    "### Path for train and test data"
   ]
  },
  {
   "cell_type": "code",
   "execution_count": 2,
   "id": "6183b0cf",
   "metadata": {},
   "outputs": [],
   "source": [
    "trainingpath=r\"dataset/spiral/training\"\n",
    "testingpath=r\"dataset/spiral/testing\""
   ]
  },
  {
   "cell_type": "markdown",
   "id": "dc14da86",
   "metadata": {},
   "source": [
    "## Quantifying Images"
   ]
  },
  {
   "cell_type": "code",
   "execution_count": 3,
   "id": "91c489f5",
   "metadata": {},
   "outputs": [],
   "source": [
    "def quantify_image(image):\n",
    "    features = feature.hog(image, orientations=9,\n",
    "                           pixels_per_cell=(10, 10), \n",
    "                           cells_per_block=(2, 2),\n",
    "                           transform_sqrt=True, \n",
    "                           block_norm=\"L1\")\n",
    "    return features"
   ]
  },
  {
   "cell_type": "markdown",
   "id": "0d36eb05",
   "metadata": {},
   "source": [
    "## Loading Train Data and Test Data"
   ]
  },
  {
   "cell_type": "code",
   "execution_count": 4,
   "id": "350812ab",
   "metadata": {},
   "outputs": [],
   "source": [
    "def load_split(path):\n",
    "    imagePaths = list(paths.list_images(path))\n",
    "    data = []\n",
    "    labels = []\n",
    "    \n",
    "    for imagePath in imagePaths:\n",
    "        label = imagePath.split(os.path.sep)[-2]\n",
    "        \n",
    "        image = cv2.imread(imagePath)\n",
    "        image = cv2.cvtColor(image, cv2.COLOR_BGR2GRAY)\n",
    "        image = cv2.resize(image, (200, 200))\n",
    "\n",
    "        image=cv2.threshold(image,0,255,cv2.THRESH_BINARY_INV | cv2.THRESH_OTSU)[1]\n",
    "        \n",
    "        features = quantify_image(image)\n",
    "\n",
    "        data.append(features)\n",
    "        labels.append(label)\n",
    "\n",
    "    return (np.array(data), np.array(labels))\n"
   ]
  },
  {
   "cell_type": "markdown",
   "id": "08d2e430",
   "metadata": {},
   "source": [
    "### Load the train and test data"
   ]
  },
  {
   "cell_type": "code",
   "execution_count": 5,
   "id": "7381531a",
   "metadata": {},
   "outputs": [
    {
     "name": "stdout",
     "output_type": "stream",
     "text": [
      "[INFO] loading data...\n"
     ]
    }
   ],
   "source": [
    "print(\"[INFO] loading data...\")\n",
    "(X_train, y_train) = load_split(trainingpath)\n",
    "(X_test, y_test) = load_split(testingpath)"
   ]
  },
  {
   "cell_type": "markdown",
   "id": "80fe1227",
   "metadata": {},
   "source": [
    "## Label Encoding"
   ]
  },
  {
   "cell_type": "code",
   "execution_count": 6,
   "id": "5a3b5fba",
   "metadata": {},
   "outputs": [
    {
     "name": "stdout",
     "output_type": "stream",
     "text": [
      "(72, 12996) (72,)\n"
     ]
    }
   ],
   "source": [
    "le = LabelEncoder()\n",
    "y_train = le.fit_transform(y_train)\n",
    "y_test = le.transform(y_test)\n",
    "print(X_train.shape,y_train.shape)"
   ]
  },
  {
   "cell_type": "markdown",
   "id": "1d3db9c3",
   "metadata": {},
   "source": [
    "# Model Building"
   ]
  },
  {
   "cell_type": "markdown",
   "id": "3967fdb7",
   "metadata": {},
   "source": [
    "## Training The Model"
   ]
  },
  {
   "cell_type": "code",
   "execution_count": 7,
   "id": "862ef4c3",
   "metadata": {},
   "outputs": [
    {
     "name": "stdout",
     "output_type": "stream",
     "text": [
      "[INFO] training model\n"
     ]
    },
    {
     "data": {
      "text/plain": [
       "RandomForestClassifier()"
      ]
     },
     "execution_count": 7,
     "metadata": {},
     "output_type": "execute_result"
    }
   ],
   "source": [
    "print(\"[INFO] training model\")\n",
    "model = RandomForestClassifier(n_estimators=100)\n",
    "model.fit(X_train, y_train)"
   ]
  },
  {
   "cell_type": "markdown",
   "id": "0e127483",
   "metadata": {},
   "source": [
    "## Testing The Model"
   ]
  },
  {
   "cell_type": "code",
   "execution_count": 8,
   "id": "6238c846",
   "metadata": {},
   "outputs": [],
   "source": [
    "testingpath=list(paths.list_images(testingpath))\n",
    "idxs=np.arange(0,len(testingpath))\n",
    "idxs=np.random.choice(idxs,size=(25,),replace=False)\n",
    "images=[]"
   ]
  },
  {
   "cell_type": "code",
   "execution_count": 9,
   "id": "4fdc6359",
   "metadata": {},
   "outputs": [
    {
     "data": {
      "text/plain": [
       "-1"
      ]
     },
     "execution_count": 9,
     "metadata": {},
     "output_type": "execute_result"
    }
   ],
   "source": [
    "for i in idxs:\n",
    "    image=cv2.imread(testingpath[i])\n",
    "    output=image.copy()\n",
    "        \n",
    "    # load the input image,convert to grayscale and resize\n",
    "    \n",
    "    output=cv2.resize(output,(128,128))\n",
    "    image=cv2.cvtColor(image,cv2.COLOR_BGR2GRAY)\n",
    "    image=cv2.resize(image,(200,200))\n",
    "    image=cv2.threshold(image,0,255,cv2.THRESH_BINARY_INV | cv2.THRESH_OTSU)[1]\n",
    "    \n",
    "    #quantify the image and make predictions based on the  extracted feature using last trained random forest\n",
    "    features=quantify_image(image)\n",
    "    preds=model.predict([features])\n",
    "    label=le.inverse_transform(preds)[0]\n",
    "    #the set of output images\n",
    "    if label==\"healthy\":\n",
    "        color=(0,255,0)\n",
    "    else:\n",
    "        color=(0,0,255)\n",
    "        \n",
    "    cv2.putText(output,label,(3,20),cv2.FONT_HERSHEY_SIMPLEX,0.5,color,2)\n",
    "    images.append(output)\n",
    "\n",
    "#creating a montage\n",
    "montage=build_montages(images,(128,128),(5,5))[0]\n",
    "cv2.imshow(\"Output\",montage)\n",
    "cv2.waitKey(0)"
   ]
  },
  {
   "cell_type": "markdown",
   "id": "2b8d260e",
   "metadata": {},
   "source": [
    "## Model Evaluation"
   ]
  },
  {
   "cell_type": "code",
   "execution_count": 10,
   "id": "81277910",
   "metadata": {},
   "outputs": [
    {
     "name": "stdout",
     "output_type": "stream",
     "text": [
      "[14  1  3 12]\n",
      "0.8666666666666667\n"
     ]
    }
   ],
   "source": [
    "predictions = model.predict(X_test)\n",
    "\n",
    "cm = confusion_matrix(y_test, predictions).flatten()\n",
    "print(cm)\n",
    "(tn, fp, fn, tp) = cm\n",
    "accuracy = (tp + tn) / float(cm.sum())\n",
    "print(accuracy)"
   ]
  },
  {
   "cell_type": "markdown",
   "id": "77c4705a",
   "metadata": {},
   "source": [
    "## Save The Model"
   ]
  },
  {
   "cell_type": "code",
   "execution_count": 11,
   "id": "95998302",
   "metadata": {},
   "outputs": [],
   "source": [
    "pickle.dump(model,open('parkinson.pkl','wb')) "
   ]
  }
 ],
 "metadata": {
  "kernelspec": {
   "display_name": "Python 3 (ipykernel)",
   "language": "python",
   "name": "python3"
  },
  "language_info": {
   "codemirror_mode": {
    "name": "ipython",
    "version": 3
   },
   "file_extension": ".py",
   "mimetype": "text/x-python",
   "name": "python",
   "nbconvert_exporter": "python",
   "pygments_lexer": "ipython3",
   "version": "3.7.9"
  }
 },
 "nbformat": 4,
 "nbformat_minor": 5
}
